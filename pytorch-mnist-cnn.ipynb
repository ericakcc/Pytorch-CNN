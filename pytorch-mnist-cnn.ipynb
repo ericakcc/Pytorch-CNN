{
 "cells": [
  {
   "cell_type": "code",
   "execution_count": 1,
   "id": "26191f4b",
   "metadata": {
    "_cell_guid": "b1076dfc-b9ad-4769-8c92-a6c4dae69d19",
    "_uuid": "8f2839f25d086af736a60e9eeb907d3b93b6e0e5",
    "execution": {
     "iopub.execute_input": "2025-02-01T16:57:58.908876Z",
     "iopub.status.busy": "2025-02-01T16:57:58.908563Z",
     "iopub.status.idle": "2025-02-01T16:57:59.772701Z",
     "shell.execute_reply": "2025-02-01T16:57:59.771529Z"
    },
    "papermill": {
     "duration": 0.872116,
     "end_time": "2025-02-01T16:57:59.774619",
     "exception": false,
     "start_time": "2025-02-01T16:57:58.902503",
     "status": "completed"
    },
    "tags": []
   },
   "outputs": [
    {
     "name": "stdout",
     "output_type": "stream",
     "text": [
      "/kaggle/input/digit-recognizer/sample_submission.csv\n",
      "/kaggle/input/digit-recognizer/train.csv\n",
      "/kaggle/input/digit-recognizer/test.csv\n"
     ]
    }
   ],
   "source": [
    "# This Python 3 environment comes with many helpful analytics libraries installed\n",
    "# It is defined by the kaggle/python Docker image: https://github.com/kaggle/docker-python\n",
    "# For example, here's several helpful packages to load\n",
    "\n",
    "import numpy as np # linear algebra\n",
    "import pandas as pd # data processing, CSV file I/O (e.g. pd.read_csv)\n",
    "\n",
    "# Input data files are available in the read-only \"../input/\" directory\n",
    "# For example, running this (by clicking run or pressing Shift+Enter) will list all files under the input directory\n",
    "\n",
    "import os\n",
    "for dirname, _, filenames in os.walk('/kaggle/input'):\n",
    "    for filename in filenames:\n",
    "        print(os.path.join(dirname, filename))\n",
    "\n",
    "# You can write up to 20GB to the current directory (/kaggle/working/) that gets preserved as output when you create a version using \"Save & Run All\" \n",
    "# You can also write temporary files to /kaggle/temp/, but they won't be saved outside of the current session"
   ]
  },
  {
   "cell_type": "markdown",
   "id": "4ba45c8b",
   "metadata": {
    "papermill": {
     "duration": 0.004157,
     "end_time": "2025-02-01T16:57:59.783777",
     "exception": false,
     "start_time": "2025-02-01T16:57:59.779620",
     "status": "completed"
    },
    "tags": []
   },
   "source": [
    "# 1. Import and Setup"
   ]
  },
  {
   "cell_type": "code",
   "execution_count": 2,
   "id": "a83ef56d",
   "metadata": {
    "execution": {
     "iopub.execute_input": "2025-02-01T16:57:59.793957Z",
     "iopub.status.busy": "2025-02-01T16:57:59.793505Z",
     "iopub.status.idle": "2025-02-01T16:58:08.574738Z",
     "shell.execute_reply": "2025-02-01T16:58:08.573747Z"
    },
    "papermill": {
     "duration": 8.788423,
     "end_time": "2025-02-01T16:58:08.576529",
     "exception": false,
     "start_time": "2025-02-01T16:57:59.788106",
     "status": "completed"
    },
    "tags": []
   },
   "outputs": [],
   "source": [
    "import numpy as np\n",
    "import pandas as pd\n",
    "import torch\n",
    "import torch.nn as nn\n",
    "import torch.optim as optim\n",
    "from torch.utils.data import Dataset, DataLoader, random_split\n",
    "import torchvision.transforms as transforms\n",
    "import matplotlib.pyplot as plt\n",
    "import random"
   ]
  },
  {
   "cell_type": "markdown",
   "id": "2e12db61",
   "metadata": {
    "papermill": {
     "duration": 0.004221,
     "end_time": "2025-02-01T16:58:08.585433",
     "exception": false,
     "start_time": "2025-02-01T16:58:08.581212",
     "status": "completed"
    },
    "tags": []
   },
   "source": [
    "# 2. Random Seeds for Reproducibility"
   ]
  },
  {
   "cell_type": "code",
   "execution_count": 3,
   "id": "e37bb177",
   "metadata": {
    "execution": {
     "iopub.execute_input": "2025-02-01T16:58:08.595690Z",
     "iopub.status.busy": "2025-02-01T16:58:08.595172Z",
     "iopub.status.idle": "2025-02-01T16:58:08.609215Z",
     "shell.execute_reply": "2025-02-01T16:58:08.608325Z"
    },
    "papermill": {
     "duration": 0.021128,
     "end_time": "2025-02-01T16:58:08.611005",
     "exception": false,
     "start_time": "2025-02-01T16:58:08.589877",
     "status": "completed"
    },
    "tags": []
   },
   "outputs": [],
   "source": [
    "def set_seed(seed):\n",
    "    np.random.seed(seed)\n",
    "    random.seed(seed)\n",
    "    torch.manual_seed(seed)\n",
    "    if torch.cuda.is_available():\n",
    "        torch.cuda.manual_seed(seed)\n",
    "        torch.cuda.manual_seed_all(seed)\n",
    "    torch.backends.cudnn.benchmark = False\n",
    "    torch.backends.cudnn.deterministic = True\n",
    "\n",
    "set_seed(2023)"
   ]
  },
  {
   "cell_type": "markdown",
   "id": "ee0b943a",
   "metadata": {
    "papermill": {
     "duration": 0.003945,
     "end_time": "2025-02-01T16:58:08.619449",
     "exception": false,
     "start_time": "2025-02-01T16:58:08.615504",
     "status": "completed"
    },
    "tags": []
   },
   "source": [
    "# 3. Load Dataset"
   ]
  },
  {
   "cell_type": "code",
   "execution_count": 4,
   "id": "c92a93d1",
   "metadata": {
    "execution": {
     "iopub.execute_input": "2025-02-01T16:58:08.630381Z",
     "iopub.status.busy": "2025-02-01T16:58:08.629893Z",
     "iopub.status.idle": "2025-02-01T16:58:13.471897Z",
     "shell.execute_reply": "2025-02-01T16:58:13.470581Z"
    },
    "papermill": {
     "duration": 4.850016,
     "end_time": "2025-02-01T16:58:13.473628",
     "exception": false,
     "start_time": "2025-02-01T16:58:08.623612",
     "status": "completed"
    },
    "tags": []
   },
   "outputs": [
    {
     "name": "stdout",
     "output_type": "stream",
     "text": [
      "Train CSV shape: (42000, 785)\n",
      "Test CSV shape: (28000, 784)\n"
     ]
    }
   ],
   "source": [
    "train_df = pd.read_csv(\"/kaggle/input/digit-recognizer/train.csv\")\n",
    "test_df = pd.read_csv(\"/kaggle/input/digit-recognizer/test.csv\")\n",
    "\n",
    "print(\"Train CSV shape:\", train_df.shape)\n",
    "print(\"Test CSV shape:\", test_df.shape)"
   ]
  },
  {
   "cell_type": "markdown",
   "id": "730c03b4",
   "metadata": {
    "papermill": {
     "duration": 0.004074,
     "end_time": "2025-02-01T16:58:13.482303",
     "exception": false,
     "start_time": "2025-02-01T16:58:13.478229",
     "status": "completed"
    },
    "tags": []
   },
   "source": [
    "# 4. Creat a Custom Dataset"
   ]
  },
  {
   "cell_type": "code",
   "execution_count": 5,
   "id": "86e4175f",
   "metadata": {
    "execution": {
     "iopub.execute_input": "2025-02-01T16:58:13.492179Z",
     "iopub.status.busy": "2025-02-01T16:58:13.491842Z",
     "iopub.status.idle": "2025-02-01T16:58:13.498481Z",
     "shell.execute_reply": "2025-02-01T16:58:13.497451Z"
    },
    "papermill": {
     "duration": 0.013436,
     "end_time": "2025-02-01T16:58:13.500044",
     "exception": false,
     "start_time": "2025-02-01T16:58:13.486608",
     "status": "completed"
    },
    "tags": []
   },
   "outputs": [],
   "source": [
    "class myDataset(Dataset):\n",
    "    def __init__(self, df, transform=None, is_test=False):\n",
    "        \"\"\"\n",
    "        df: DataFrame of shape (N, 785) if labeled, or (N, 784) if test.\n",
    "        transform: torchvision transform for data augmentation/preprocessing.\n",
    "        is_test: Whether this Dataset is for the test set (no labels).\n",
    "        \"\"\"\n",
    "        self.is_test = is_test\n",
    "        self.transform = transform\n",
    "\n",
    "        if not self.is_test:\n",
    "            self.labels = df['label'].values\n",
    "            self.data = df.drop(columns=['label']).values.astype(np.uint8).reshape(-1, 28, 28)\n",
    "        else:\n",
    "            self.labels = None\n",
    "            self.data = df.values.astype(np.uint8).reshape(-1, 28, 28)\n",
    "\n",
    "    def __len__(self):\n",
    "        return len(self.data)\n",
    "\n",
    "    def __getitem__(self, idx):\n",
    "        img = self.data[idx]\n",
    "\n",
    "        if self.transform:\n",
    "            img = self.transform(img)\n",
    "\n",
    "        if self.is_test:\n",
    "            return img\n",
    "        else:\n",
    "            return img, self.labels[idx]"
   ]
  },
  {
   "cell_type": "markdown",
   "id": "777827b0",
   "metadata": {
    "papermill": {
     "duration": 0.004101,
     "end_time": "2025-02-01T16:58:13.508859",
     "exception": false,
     "start_time": "2025-02-01T16:58:13.504758",
     "status": "completed"
    },
    "tags": []
   },
   "source": [
    "# 5. Define Transforms"
   ]
  },
  {
   "cell_type": "code",
   "execution_count": 6,
   "id": "9170a67d",
   "metadata": {
    "execution": {
     "iopub.execute_input": "2025-02-01T16:58:13.518947Z",
     "iopub.status.busy": "2025-02-01T16:58:13.518591Z",
     "iopub.status.idle": "2025-02-01T16:58:13.524314Z",
     "shell.execute_reply": "2025-02-01T16:58:13.523344Z"
    },
    "papermill": {
     "duration": 0.012688,
     "end_time": "2025-02-01T16:58:13.525921",
     "exception": false,
     "start_time": "2025-02-01T16:58:13.513233",
     "status": "completed"
    },
    "tags": []
   },
   "outputs": [],
   "source": [
    "def get_transforms(is_train=True, rotation=10):\n",
    "    transform_list = [transforms.ToPILImage()]\n",
    "    \n",
    "    if is_train and rotation > 0:\n",
    "        transform_list.append(transforms.RandomRotation(degrees=rotation))\n",
    "\n",
    "    transform_list.extend([\n",
    "        transforms.ToTensor(),\n",
    "        transforms.Normalize((0.5,), (0.5,))\n",
    "    ])\n",
    "\n",
    "    return transforms.Compose(transform_list)\n",
    "\n",
    "# transform\n",
    "train_transform = get_transforms(is_train=True, rotation=15)\n",
    "test_transform = get_transforms(is_train=False)"
   ]
  },
  {
   "cell_type": "markdown",
   "id": "50514f58",
   "metadata": {
    "papermill": {
     "duration": 0.004024,
     "end_time": "2025-02-01T16:58:13.534601",
     "exception": false,
     "start_time": "2025-02-01T16:58:13.530577",
     "status": "completed"
    },
    "tags": []
   },
   "source": [
    "# 6. Create PyTorch Datasets & DataLoaders"
   ]
  },
  {
   "cell_type": "code",
   "execution_count": 7,
   "id": "c707cf4b",
   "metadata": {
    "execution": {
     "iopub.execute_input": "2025-02-01T16:58:13.544288Z",
     "iopub.status.busy": "2025-02-01T16:58:13.543898Z",
     "iopub.status.idle": "2025-02-01T16:58:13.731727Z",
     "shell.execute_reply": "2025-02-01T16:58:13.730651Z"
    },
    "papermill": {
     "duration": 0.194797,
     "end_time": "2025-02-01T16:58:13.733633",
     "exception": false,
     "start_time": "2025-02-01T16:58:13.538836",
     "status": "completed"
    },
    "tags": []
   },
   "outputs": [
    {
     "name": "stdout",
     "output_type": "stream",
     "text": [
      "Train dataset size: 33600\n",
      "Validation dataset size: 8400\n",
      "Kaggle test dataset size: 28000\n"
     ]
    }
   ],
   "source": [
    "# Full training and testing dataset\n",
    "train_dataset = myDataset(train_df, transform=train_transform, is_test=False)\n",
    "test_dataset = myDataset(test_df, transform=test_transform, is_test=True)\n",
    "\n",
    "# Random split with train 80% and validation 20%\n",
    "train_size = int(0.8 * len(train_dataset))\n",
    "val_size = len(train_dataset) - train_size\n",
    "train_dataset, val_dataset = random_split(train_dataset, [train_size, val_size])\n",
    "\n",
    "# For validation use test_transform\n",
    "val_dataset.dataset.transform = test_transform\n",
    "\n",
    "print(\"Train dataset size:\", len(train_dataset))\n",
    "print(\"Validation dataset size:\", len(val_dataset))\n",
    "print(\"Kaggle test dataset size:\", len(test_dataset))\n",
    "\n",
    "# Create DataLoaders for each dataset\n",
    "batch_size = 64\n",
    "train_loader = DataLoader(train_dataset, batch_size=batch_size, shuffle=True)\n",
    "val_loader = DataLoader(val_dataset, batch_size=batch_size, shuffle=False)\n",
    "test_loader = DataLoader(test_dataset, batch_size=batch_size, shuffle=False)"
   ]
  },
  {
   "cell_type": "markdown",
   "id": "baf191f0",
   "metadata": {
    "papermill": {
     "duration": 0.004448,
     "end_time": "2025-02-01T16:58:13.742907",
     "exception": false,
     "start_time": "2025-02-01T16:58:13.738459",
     "status": "completed"
    },
    "tags": []
   },
   "source": [
    "# 7. Define CNN Model"
   ]
  },
  {
   "cell_type": "code",
   "execution_count": 8,
   "id": "706eccbc",
   "metadata": {
    "execution": {
     "iopub.execute_input": "2025-02-01T16:58:13.753453Z",
     "iopub.status.busy": "2025-02-01T16:58:13.753039Z",
     "iopub.status.idle": "2025-02-01T16:58:13.790492Z",
     "shell.execute_reply": "2025-02-01T16:58:13.789337Z"
    },
    "papermill": {
     "duration": 0.044595,
     "end_time": "2025-02-01T16:58:13.792258",
     "exception": false,
     "start_time": "2025-02-01T16:58:13.747663",
     "status": "completed"
    },
    "tags": []
   },
   "outputs": [
    {
     "name": "stdout",
     "output_type": "stream",
     "text": [
      "Using device: cpu\n"
     ]
    }
   ],
   "source": [
    "class ModuleListCNN(nn.Module):\n",
    "    def __init__(self):\n",
    "        super(ModuleListCNN, self).__init__()\n",
    "        \n",
    "        # Define CNN Blocks\n",
    "        self.conv_blocks = nn.ModuleList([\n",
    "            nn.Conv2d(1, 32, kernel_size=3, padding=1),\n",
    "            nn.ReLU(inplace=True),\n",
    "            nn.Conv2d(32, 32, kernel_size=3, padding=1),\n",
    "            nn.ReLU(inplace=True),\n",
    "            nn.MaxPool2d(2),\n",
    "            nn.Dropout(0.25)\n",
    "        ])\n",
    "\n",
    "        self.fc_blocks = nn.ModuleList([\n",
    "            nn.Linear(32 * 14 * 14, 128),\n",
    "            nn.ReLU(inplace=True),\n",
    "            nn.Dropout(0.25),\n",
    "            nn.Linear(128, 10)\n",
    "        ])\n",
    "\n",
    "    def forward(self, x):\n",
    "        for layer in self.conv_blocks:\n",
    "            x = layer(x)  # forward\n",
    "        \n",
    "        x = x.view(x.size(0), -1)  # Flatten\n",
    "\n",
    "        for layer in self.fc_blocks:\n",
    "            x = layer(x)\n",
    "\n",
    "        return x\n",
    "\n",
    "# Check for CUDA availability\n",
    "device = torch.device(\"cuda\" if torch.cuda.is_available() else \"cpu\")\n",
    "print(\"Using device:\", device)\n",
    "\n",
    "# Instantiate the model\n",
    "model = ModuleListCNN().to(device)"
   ]
  },
  {
   "cell_type": "markdown",
   "id": "14c2e0a1",
   "metadata": {
    "papermill": {
     "duration": 0.004603,
     "end_time": "2025-02-01T16:58:13.801570",
     "exception": false,
     "start_time": "2025-02-01T16:58:13.796967",
     "status": "completed"
    },
    "tags": []
   },
   "source": [
    "# 8. Define Loss and Optimizer"
   ]
  },
  {
   "cell_type": "code",
   "execution_count": 9,
   "id": "15ca23fa",
   "metadata": {
    "execution": {
     "iopub.execute_input": "2025-02-01T16:58:13.812311Z",
     "iopub.status.busy": "2025-02-01T16:58:13.811988Z",
     "iopub.status.idle": "2025-02-01T16:58:13.816949Z",
     "shell.execute_reply": "2025-02-01T16:58:13.815945Z"
    },
    "papermill": {
     "duration": 0.012379,
     "end_time": "2025-02-01T16:58:13.818611",
     "exception": false,
     "start_time": "2025-02-01T16:58:13.806232",
     "status": "completed"
    },
    "tags": []
   },
   "outputs": [],
   "source": [
    "criterion = nn.CrossEntropyLoss()\n",
    "optimizer = optim.Adam(model.parameters(), lr=0.001)\n",
    "\n",
    "# Optional learning rate scheduler: step down by factor 0.1 every 10 epochs\n",
    "scheduler = optim.lr_scheduler.StepLR(optimizer, step_size=10, gamma=0.1)"
   ]
  },
  {
   "cell_type": "markdown",
   "id": "1bfc2591",
   "metadata": {
    "papermill": {
     "duration": 0.004325,
     "end_time": "2025-02-01T16:58:13.827791",
     "exception": false,
     "start_time": "2025-02-01T16:58:13.823466",
     "status": "completed"
    },
    "tags": []
   },
   "source": [
    "# 9. Train and Validation"
   ]
  },
  {
   "cell_type": "code",
   "execution_count": 10,
   "id": "cf1a26b2",
   "metadata": {
    "execution": {
     "iopub.execute_input": "2025-02-01T16:58:13.838204Z",
     "iopub.status.busy": "2025-02-01T16:58:13.837867Z",
     "iopub.status.idle": "2025-02-01T17:08:06.631890Z",
     "shell.execute_reply": "2025-02-01T17:08:06.630824Z"
    },
    "papermill": {
     "duration": 592.806436,
     "end_time": "2025-02-01T17:08:06.638760",
     "exception": false,
     "start_time": "2025-02-01T16:58:13.832324",
     "status": "completed"
    },
    "tags": []
   },
   "outputs": [
    {
     "name": "stderr",
     "output_type": "stream",
     "text": [
      "/usr/local/lib/python3.10/dist-packages/torch/amp/grad_scaler.py:132: UserWarning: torch.cuda.amp.GradScaler is enabled, but CUDA is not available.  Disabling.\n",
      "  warnings.warn(\n",
      "<ipython-input-10-b31a3d39e52d>:12: FutureWarning: `torch.cuda.amp.autocast(args...)` is deprecated. Please use `torch.amp.autocast('cuda', args...)` instead.\n",
      "  with torch.cuda.amp.autocast():  # Automatic Mixed Precision (AMP) for faster training\n",
      "/usr/local/lib/python3.10/dist-packages/torch/amp/autocast_mode.py:266: UserWarning: User provided device_type of 'cuda', but CUDA is not available. Disabling\n",
      "  warnings.warn(\n"
     ]
    },
    {
     "name": "stdout",
     "output_type": "stream",
     "text": [
      "Epoch [1/15] | Train Loss: 0.2696 | Train Acc: 91.75% | Val Loss: 0.0749 | Val Acc: 97.80%\n",
      "Epoch [2/15] | Train Loss: 0.0800 | Train Acc: 97.53% | Val Loss: 0.0545 | Val Acc: 98.38%\n",
      "Epoch [3/15] | Train Loss: 0.0572 | Train Acc: 98.21% | Val Loss: 0.0493 | Val Acc: 98.61%\n",
      "Epoch [4/15] | Train Loss: 0.0428 | Train Acc: 98.59% | Val Loss: 0.0473 | Val Acc: 98.65%\n",
      "Epoch [5/15] | Train Loss: 0.0362 | Train Acc: 98.82% | Val Loss: 0.0413 | Val Acc: 98.85%\n",
      "Epoch [6/15] | Train Loss: 0.0213 | Train Acc: 99.35% | Val Loss: 0.0412 | Val Acc: 98.96%\n",
      "Epoch [7/15] | Train Loss: 0.0186 | Train Acc: 99.38% | Val Loss: 0.0410 | Val Acc: 98.93%\n",
      "Epoch [8/15] | Train Loss: 0.0169 | Train Acc: 99.40% | Val Loss: 0.0398 | Val Acc: 98.95%\n",
      "Epoch [9/15] | Train Loss: 0.0149 | Train Acc: 99.49% | Val Loss: 0.0415 | Val Acc: 99.01%\n",
      "Epoch [10/15] | Train Loss: 0.0127 | Train Acc: 99.59% | Val Loss: 0.0447 | Val Acc: 98.93%\n",
      "Epoch [11/15] | Train Loss: 0.0095 | Train Acc: 99.65% | Val Loss: 0.0407 | Val Acc: 99.00%\n",
      "Epoch [12/15] | Train Loss: 0.0080 | Train Acc: 99.74% | Val Loss: 0.0420 | Val Acc: 98.96%\n",
      "Epoch [13/15] | Train Loss: 0.0071 | Train Acc: 99.78% | Val Loss: 0.0413 | Val Acc: 99.11%\n",
      "Epoch [14/15] | Train Loss: 0.0078 | Train Acc: 99.74% | Val Loss: 0.0437 | Val Acc: 99.02%\n",
      "Epoch [15/15] | Train Loss: 0.0068 | Train Acc: 99.76% | Val Loss: 0.0433 | Val Acc: 99.04%\n",
      "Training Completed in 592.62 seconds\n"
     ]
    }
   ],
   "source": [
    "import time\n",
    "\n",
    "# Function to train one epoch\n",
    "def train_one_epoch(model, train_loader, optimizer, criterion, device, scaler):\n",
    "    model.train()\n",
    "    running_loss, correct, total = 0.0, 0, 0\n",
    "\n",
    "    for images, labels in train_loader:\n",
    "        images, labels = images.to(device), labels.to(device)\n",
    "\n",
    "        optimizer.zero_grad()\n",
    "        with torch.cuda.amp.autocast():  # Automatic Mixed Precision (AMP) for faster training\n",
    "            outputs = model(images)\n",
    "            loss = criterion(outputs, labels)\n",
    "\n",
    "        scaler.scale(loss).backward()  # Scale loss to prevent underflow/overflow\n",
    "        scaler.step(optimizer)\n",
    "        scaler.update()\n",
    "\n",
    "        running_loss += loss.item()\n",
    "        correct += (outputs.argmax(1) == labels).sum().item()\n",
    "        total += labels.size(0)\n",
    "\n",
    "    return running_loss / len(train_loader), 100.0 * correct / total\n",
    "\n",
    "\n",
    "# Function to validate the model\n",
    "def validate(model, val_loader, criterion, device):\n",
    "    model.eval()\n",
    "    running_loss, correct, total = 0.0, 0, 0\n",
    "\n",
    "    with torch.no_grad():\n",
    "        for images, labels in val_loader:\n",
    "            images, labels = images.to(device), labels.to(device)\n",
    "            outputs = model(images)\n",
    "            loss = criterion(outputs, labels)\n",
    "\n",
    "            running_loss += loss.item()\n",
    "            correct += (outputs.argmax(1) == labels).sum().item()\n",
    "            total += labels.size(0)\n",
    "\n",
    "    return running_loss / len(val_loader), 100.0 * correct / total\n",
    "\n",
    "\n",
    "# Function to train and validate the model\n",
    "def train_and_validate(model, train_loader, val_loader, optimizer, criterion, scheduler, device, num_epochs=15):\n",
    "    scaler = torch.amp.GradScaler()  # Enable Automatic Mixed Precision (AMP)\n",
    "    best_val_acc = 0.0  # Store the best validation accuracy\n",
    "    start_time = time.time()  # Start timer\n",
    "\n",
    "    for epoch in range(1, num_epochs + 1):\n",
    "        train_loss, train_acc = train_one_epoch(model, train_loader, optimizer, criterion, device, scaler)\n",
    "        val_loss, val_acc = validate(model, val_loader, criterion, device)\n",
    "\n",
    "        # Update learning rate\n",
    "        if scheduler:\n",
    "            scheduler.step()\n",
    "\n",
    "        # Display training progress\n",
    "        print(f\"Epoch [{epoch}/{num_epochs}] | \"\n",
    "              f\"Train Loss: {train_loss:.4f} | Train Acc: {train_acc:.2f}% | \"\n",
    "              f\"Val Loss: {val_loss:.4f} | Val Acc: {val_acc:.2f}%\")\n",
    "\n",
    "        # Save the best model based on validation accuracy\n",
    "        if val_acc > best_val_acc:\n",
    "            best_val_acc = val_acc\n",
    "            torch.save(model.state_dict(), \"best_model.pth\")\n",
    "\n",
    "        # Monitor GPU memory usage\n",
    "        if torch.cuda.is_available():\n",
    "            print(f\"GPU Memory Usage: {torch.cuda.memory_reserved(device) / 1e9:.2f} GB\")\n",
    "\n",
    "    total_time = time.time() - start_time\n",
    "    print(f\"Training Completed in {total_time:.2f} seconds\")\n",
    "\n",
    "\n",
    "device = torch.device(\"cuda\" if torch.cuda.is_available() else \"cpu\")\n",
    "model = ModuleListCNN().to(device)\n",
    "\n",
    "# Define loss function and optimizer\n",
    "criterion = nn.CrossEntropyLoss()\n",
    "optimizer = optim.Adam(model.parameters(), lr=0.001)\n",
    "scheduler = optim.lr_scheduler.StepLR(optimizer, step_size=5, gamma=0.5)\n",
    "\n",
    "# Start training\n",
    "train_and_validate(model, train_loader, val_loader, optimizer, criterion, scheduler, device, num_epochs=15)"
   ]
  },
  {
   "cell_type": "code",
   "execution_count": 11,
   "id": "fc180730",
   "metadata": {
    "execution": {
     "iopub.execute_input": "2025-02-01T17:08:06.650692Z",
     "iopub.status.busy": "2025-02-01T17:08:06.650317Z",
     "iopub.status.idle": "2025-02-01T17:08:19.923525Z",
     "shell.execute_reply": "2025-02-01T17:08:19.922279Z"
    },
    "papermill": {
     "duration": 13.281103,
     "end_time": "2025-02-01T17:08:19.925120",
     "exception": false,
     "start_time": "2025-02-01T17:08:06.644017",
     "status": "completed"
    },
    "tags": []
   },
   "outputs": [
    {
     "name": "stdout",
     "output_type": "stream",
     "text": [
      "Submission file created: submission.csv\n"
     ]
    }
   ],
   "source": [
    "def create_submission():\n",
    "    sample_submission = pd.read_csv(\"/kaggle/input/digit-recognizer/sample_submission.csv\")\n",
    "    predictions = []\n",
    "\n",
    "    model.eval()\n",
    "    with torch.no_grad():\n",
    "        for images in test_loader:\n",
    "            images = images.to(device)\n",
    "            outputs = model(images)\n",
    "            _, predicted = torch.max(outputs, 1)\n",
    "            predictions.extend(predicted.cpu().numpy())\n",
    "\n",
    "    sample_submission['Label'] = predictions\n",
    "    sample_submission.to_csv(\"submission.csv\", index=False)\n",
    "    print(\"Submission file created: submission.csv\")\n",
    "\n",
    "create_submission()"
   ]
  },
  {
   "cell_type": "code",
   "execution_count": null,
   "id": "5c60e589",
   "metadata": {
    "papermill": {
     "duration": 0.005746,
     "end_time": "2025-02-01T17:08:19.936562",
     "exception": false,
     "start_time": "2025-02-01T17:08:19.930816",
     "status": "completed"
    },
    "tags": []
   },
   "outputs": [],
   "source": []
  }
 ],
 "metadata": {
  "kaggle": {
   "accelerator": "none",
   "dataSources": [
    {
     "databundleVersionId": 861823,
     "sourceId": 3004,
     "sourceType": "competition"
    }
   ],
   "dockerImageVersionId": 30839,
   "isGpuEnabled": false,
   "isInternetEnabled": true,
   "language": "python",
   "sourceType": "notebook"
  },
  "kernelspec": {
   "display_name": "Python 3",
   "language": "python",
   "name": "python3"
  },
  "language_info": {
   "codemirror_mode": {
    "name": "ipython",
    "version": 3
   },
   "file_extension": ".py",
   "mimetype": "text/x-python",
   "name": "python",
   "nbconvert_exporter": "python",
   "pygments_lexer": "ipython3",
   "version": "3.10.12"
  },
  "papermill": {
   "default_parameters": {},
   "duration": 625.43292,
   "end_time": "2025-02-01T17:08:21.668115",
   "environment_variables": {},
   "exception": null,
   "input_path": "__notebook__.ipynb",
   "output_path": "__notebook__.ipynb",
   "parameters": {},
   "start_time": "2025-02-01T16:57:56.235195",
   "version": "2.6.0"
  }
 },
 "nbformat": 4,
 "nbformat_minor": 5
}
